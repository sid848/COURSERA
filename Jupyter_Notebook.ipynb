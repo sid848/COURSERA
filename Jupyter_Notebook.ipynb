{
 "cells": [
  {
   "cell_type": "markdown",
   "metadata": {},
   "source": [
    "## WEEK 6 DATA SCIENCE PRACTICE"
   ]
  },
  {
   "cell_type": "markdown",
   "metadata": {},
   "source": [
    "# Introduction\n",
    "\n",
    "\n",
    "    Data science is a field that involves using statistical and computational techniques to extract insights and knowledge from data. It encompasses a wide range of tasks, including data cleaning and preparation, data visualization, statistical modeling, machine learning, and more.\n",
    "\n"
   ]
  },
  {
   "cell_type": "markdown",
   "metadata": {},
   "source": [
    "# List of Data Science languages\n",
    "    - Python: intuitive syntax, large number of resources, extensive libraries for data analysis, visualization and machine learning.\n",
    "    - R: data mining and statistical analysis capabilities, robust support community.\n",
    "    - SQL: crucial for querying data and managing databases.\n",
    "    - Julia: high-performance computing, fast and efficient.\n",
    "    - Javascript: beneficial for advanced data visualization.\n",
    "    - Scala: functional programming, runs on the Java Virtual Machine.\n",
    "    - Java:9 object-oriented programming, runs on the Java Virtual Machine.\n",
    "    - Go: fast and efficient, good for large-scale data processing.\n",
    "    - MATLAB: numerical computing, data visualization, and machine learning.\n",
    "    - C++: high-performance computing, fast and efficient."
   ]
  },
  {
   "cell_type": "markdown",
   "metadata": {},
   "source": [
    "# List of data science libraries-\n",
    "    -Scrapy\n",
    "    -BeautifulSoup\n",
    "    -NumPy\n",
    "    -SciPy\n",
    "    -Pandas"
   ]
  },
  {
   "cell_type": "markdown",
   "metadata": {},
   "source": [
    "## Data Science Tools- \n",
    "1. Apache Hadoop\n",
    "2. SAS (Statistical Analysis System)\n",
    "3. Apache Spark\n",
    "4. Data Robot\n",
    "5. Tableau\n",
    "6. BigML\n",
    "7. TensorFlow\n",
    "8. Jupyte"
   ]
  },
  {
   "cell_type": "markdown",
   "metadata": {},
   "source": [
    "# introduction to arithmetic expression example-\n",
    "exponent = 4 ** 2\n",
    "print(exponent)  \n",
    "\n",
    "## output is 16\n"
   ]
  },
  {
   "cell_type": "code",
   "execution_count": 2,
   "metadata": {
    "tags": []
   },
   "outputs": [
    {
     "name": "stdout",
     "output_type": "stream",
     "text": [
      "52\n"
     ]
    }
   ],
   "source": [
    "x = 40\n",
    "y = 12\n",
    "add = x + y\n",
    "print(add)  # Addition\n"
   ]
  },
  {
   "cell_type": "code",
   "execution_count": 3,
   "metadata": {
    "tags": []
   },
   "outputs": [
    {
     "name": "stdout",
     "output_type": "stream",
     "text": [
      "480\n"
     ]
    }
   ],
   "source": [
    "pro = x * y\n",
    "print(pro)  # Multiplication\n"
   ]
  },
  {
   "cell_type": "code",
   "execution_count": 5,
   "metadata": {
    "tags": []
   },
   "outputs": [
    {
     "name": "stdout",
     "output_type": "stream",
     "text": [
      "150 minutes = 2.50 hours\n"
     ]
    }
   ],
   "source": [
    "# Given minutes\n",
    "minutes = 150\n",
    "\n",
    "# Convert to hours (with decimals)\n",
    "hours_decimal = minutes / 60\n",
    "print(f\"{minutes} minutes = {hours_decimal:.2f} hours\")\n",
    "\n"
   ]
  },
  {
   "cell_type": "markdown",
   "metadata": {},
   "source": [
    "## OBJECTIVE\n",
    "The objective of this exercise is to understand various tools of Data Science and apply the basic calculations of Python language in Jupyter Notebook\n"
   ]
  },
  {
   "cell_type": "markdown",
   "metadata": {},
   "source": [
    "# Author's Name\n",
    "Siddharth Chakraborty"
   ]
  },
  {
   "cell_type": "code",
   "execution_count": null,
   "metadata": {},
   "outputs": [],
   "source": []
  },
  {
   "cell_type": "code",
   "execution_count": null,
   "metadata": {},
   "outputs": [],
   "source": []
  },
  {
   "cell_type": "code",
   "execution_count": null,
   "metadata": {},
   "outputs": [],
   "source": []
  },
  {
   "cell_type": "code",
   "execution_count": null,
   "metadata": {},
   "outputs": [],
   "source": []
  },
  {
   "cell_type": "code",
   "execution_count": null,
   "metadata": {},
   "outputs": [],
   "source": []
  },
  {
   "cell_type": "code",
   "execution_count": null,
   "metadata": {},
   "outputs": [],
   "source": []
  }
 ],
 "metadata": {
  "kernelspec": {
   "display_name": "Python",
   "language": "python",
   "name": "conda-env-python-py"
  },
  "language_info": {
   "codemirror_mode": {
    "name": "ipython",
    "version": 3
   },
   "file_extension": ".py",
   "mimetype": "text/x-python",
   "name": "python",
   "nbconvert_exporter": "python",
   "pygments_lexer": "ipython3",
   "version": "3.7.12"
  }
 },
 "nbformat": 4,
 "nbformat_minor": 4
}
